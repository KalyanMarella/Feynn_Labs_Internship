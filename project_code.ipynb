{
 "cells": [
  {
   "cell_type": "code",
   "execution_count": 1,
   "metadata": {},
   "outputs": [],
   "source": [
    "import pandas as pd\n",
    "import numpy as np\n",
    "import matplotlib.pyplot as plt"
   ]
  },
  {
   "cell_type": "code",
   "execution_count": null,
   "metadata": {},
   "outputs": [],
   "source": []
  },
  {
   "cell_type": "code",
   "execution_count": 2,
   "metadata": {},
   "outputs": [],
   "source": [
    "data=pd.read_csv(\"data.csv\")\n",
    "data_excel=pd.read_excel(\"data.xlsx\")"
   ]
  },
  {
   "cell_type": "code",
   "execution_count": 3,
   "metadata": {},
   "outputs": [
    {
     "data": {
      "text/html": [
       "<div>\n",
       "<style scoped>\n",
       "    .dataframe tbody tr th:only-of-type {\n",
       "        vertical-align: middle;\n",
       "    }\n",
       "\n",
       "    .dataframe tbody tr th {\n",
       "        vertical-align: top;\n",
       "    }\n",
       "\n",
       "    .dataframe thead th {\n",
       "        text-align: right;\n",
       "    }\n",
       "</style>\n",
       "<table border=\"1\" class=\"dataframe\">\n",
       "  <thead>\n",
       "    <tr style=\"text-align: right;\">\n",
       "      <th></th>\n",
       "      <th>Unnamed: 0.1</th>\n",
       "      <th>Unnamed: 0</th>\n",
       "      <th>brand</th>\n",
       "      <th>name</th>\n",
       "      <th>price</th>\n",
       "      <th>spec_rating</th>\n",
       "      <th>processor</th>\n",
       "      <th>CPU</th>\n",
       "      <th>Ram</th>\n",
       "      <th>Ram_type</th>\n",
       "      <th>ROM</th>\n",
       "      <th>ROM_type</th>\n",
       "      <th>GPU</th>\n",
       "      <th>display_size</th>\n",
       "      <th>resolution_width</th>\n",
       "      <th>resolution_height</th>\n",
       "      <th>OS</th>\n",
       "      <th>warranty</th>\n",
       "    </tr>\n",
       "  </thead>\n",
       "  <tbody>\n",
       "    <tr>\n",
       "      <th>0</th>\n",
       "      <td>0</td>\n",
       "      <td>0</td>\n",
       "      <td>HP</td>\n",
       "      <td>Victus 15-fb0157AX Gaming Laptop</td>\n",
       "      <td>49900</td>\n",
       "      <td>73.000000</td>\n",
       "      <td>5th Gen AMD Ryzen 5 5600H</td>\n",
       "      <td>Hexa Core, 12 Threads</td>\n",
       "      <td>8GB</td>\n",
       "      <td>DDR4</td>\n",
       "      <td>512GB</td>\n",
       "      <td>SSD</td>\n",
       "      <td>4GB AMD Radeon RX 6500M</td>\n",
       "      <td>15.6</td>\n",
       "      <td>1920.0</td>\n",
       "      <td>1080.0</td>\n",
       "      <td>Windows 11 OS</td>\n",
       "      <td>1</td>\n",
       "    </tr>\n",
       "    <tr>\n",
       "      <th>1</th>\n",
       "      <td>1</td>\n",
       "      <td>1</td>\n",
       "      <td>HP</td>\n",
       "      <td>15s-fq5007TU Laptop</td>\n",
       "      <td>39900</td>\n",
       "      <td>60.000000</td>\n",
       "      <td>12th Gen Intel Core i3 1215U</td>\n",
       "      <td>Hexa Core (2P + 4E), 8 Threads</td>\n",
       "      <td>8GB</td>\n",
       "      <td>DDR4</td>\n",
       "      <td>512GB</td>\n",
       "      <td>SSD</td>\n",
       "      <td>Intel UHD Graphics</td>\n",
       "      <td>15.6</td>\n",
       "      <td>1920.0</td>\n",
       "      <td>1080.0</td>\n",
       "      <td>Windows 11 OS</td>\n",
       "      <td>1</td>\n",
       "    </tr>\n",
       "    <tr>\n",
       "      <th>2</th>\n",
       "      <td>2</td>\n",
       "      <td>2</td>\n",
       "      <td>Acer</td>\n",
       "      <td>One 14 Z8-415 Laptop</td>\n",
       "      <td>26990</td>\n",
       "      <td>69.323529</td>\n",
       "      <td>11th Gen Intel Core i3 1115G4</td>\n",
       "      <td>Dual Core, 4 Threads</td>\n",
       "      <td>8GB</td>\n",
       "      <td>DDR4</td>\n",
       "      <td>512GB</td>\n",
       "      <td>SSD</td>\n",
       "      <td>Intel Iris Xe Graphics</td>\n",
       "      <td>14.0</td>\n",
       "      <td>1920.0</td>\n",
       "      <td>1080.0</td>\n",
       "      <td>Windows 11 OS</td>\n",
       "      <td>1</td>\n",
       "    </tr>\n",
       "    <tr>\n",
       "      <th>3</th>\n",
       "      <td>3</td>\n",
       "      <td>3</td>\n",
       "      <td>Lenovo</td>\n",
       "      <td>Yoga Slim 6 14IAP8 82WU0095IN Laptop</td>\n",
       "      <td>59729</td>\n",
       "      <td>66.000000</td>\n",
       "      <td>12th Gen Intel Core i5 1240P</td>\n",
       "      <td>12 Cores (4P + 8E), 16 Threads</td>\n",
       "      <td>16GB</td>\n",
       "      <td>LPDDR5</td>\n",
       "      <td>512GB</td>\n",
       "      <td>SSD</td>\n",
       "      <td>Intel Integrated Iris Xe</td>\n",
       "      <td>14.0</td>\n",
       "      <td>2240.0</td>\n",
       "      <td>1400.0</td>\n",
       "      <td>Windows 11 OS</td>\n",
       "      <td>1</td>\n",
       "    </tr>\n",
       "    <tr>\n",
       "      <th>4</th>\n",
       "      <td>4</td>\n",
       "      <td>4</td>\n",
       "      <td>Apple</td>\n",
       "      <td>MacBook Air 2020 MGND3HN Laptop</td>\n",
       "      <td>69990</td>\n",
       "      <td>69.323529</td>\n",
       "      <td>Apple M1</td>\n",
       "      <td>Octa Core (4P + 4E)</td>\n",
       "      <td>8GB</td>\n",
       "      <td>DDR4</td>\n",
       "      <td>256GB</td>\n",
       "      <td>SSD</td>\n",
       "      <td>Apple M1 Integrated Graphics</td>\n",
       "      <td>13.3</td>\n",
       "      <td>2560.0</td>\n",
       "      <td>1600.0</td>\n",
       "      <td>Mac OS</td>\n",
       "      <td>1</td>\n",
       "    </tr>\n",
       "  </tbody>\n",
       "</table>\n",
       "</div>"
      ],
      "text/plain": [
       "   Unnamed: 0.1  Unnamed: 0   brand                                  name  \\\n",
       "0             0           0      HP      Victus 15-fb0157AX Gaming Laptop   \n",
       "1             1           1      HP                   15s-fq5007TU Laptop   \n",
       "2             2           2    Acer                  One 14 Z8-415 Laptop   \n",
       "3             3           3  Lenovo  Yoga Slim 6 14IAP8 82WU0095IN Laptop   \n",
       "4             4           4   Apple       MacBook Air 2020 MGND3HN Laptop   \n",
       "\n",
       "   price  spec_rating                      processor  \\\n",
       "0  49900    73.000000      5th Gen AMD Ryzen 5 5600H   \n",
       "1  39900    60.000000   12th Gen Intel Core i3 1215U   \n",
       "2  26990    69.323529  11th Gen Intel Core i3 1115G4   \n",
       "3  59729    66.000000   12th Gen Intel Core i5 1240P   \n",
       "4  69990    69.323529                       Apple M1   \n",
       "\n",
       "                              CPU   Ram Ram_type    ROM ROM_type  \\\n",
       "0           Hexa Core, 12 Threads   8GB     DDR4  512GB      SSD   \n",
       "1  Hexa Core (2P + 4E), 8 Threads   8GB     DDR4  512GB      SSD   \n",
       "2            Dual Core, 4 Threads   8GB     DDR4  512GB      SSD   \n",
       "3  12 Cores (4P + 8E), 16 Threads  16GB   LPDDR5  512GB      SSD   \n",
       "4             Octa Core (4P + 4E)   8GB     DDR4  256GB      SSD   \n",
       "\n",
       "                            GPU  display_size  resolution_width  \\\n",
       "0       4GB AMD Radeon RX 6500M          15.6            1920.0   \n",
       "1            Intel UHD Graphics          15.6            1920.0   \n",
       "2        Intel Iris Xe Graphics          14.0            1920.0   \n",
       "3      Intel Integrated Iris Xe          14.0            2240.0   \n",
       "4  Apple M1 Integrated Graphics          13.3            2560.0   \n",
       "\n",
       "   resolution_height             OS  warranty  \n",
       "0             1080.0  Windows 11 OS         1  \n",
       "1             1080.0  Windows 11 OS         1  \n",
       "2             1080.0  Windows 11 OS         1  \n",
       "3             1400.0  Windows 11 OS         1  \n",
       "4             1600.0         Mac OS         1  "
      ]
     },
     "execution_count": 3,
     "metadata": {},
     "output_type": "execute_result"
    }
   ],
   "source": [
    "data.head()"
   ]
  },
  {
   "cell_type": "code",
   "execution_count": 4,
   "metadata": {},
   "outputs": [
    {
     "name": "stdout",
     "output_type": "stream",
     "text": [
      "<class 'pandas.core.frame.DataFrame'>\n",
      "RangeIndex: 893 entries, 0 to 892\n",
      "Data columns (total 18 columns):\n",
      " #   Column             Non-Null Count  Dtype  \n",
      "---  ------             --------------  -----  \n",
      " 0   Unnamed: 0.1       893 non-null    int64  \n",
      " 1   Unnamed: 0         893 non-null    int64  \n",
      " 2   brand              893 non-null    object \n",
      " 3   name               893 non-null    object \n",
      " 4   price              893 non-null    int64  \n",
      " 5   spec_rating        893 non-null    float64\n",
      " 6   processor          893 non-null    object \n",
      " 7   CPU                893 non-null    object \n",
      " 8   Ram                893 non-null    object \n",
      " 9   Ram_type           893 non-null    object \n",
      " 10  ROM                893 non-null    object \n",
      " 11  ROM_type           893 non-null    object \n",
      " 12  GPU                893 non-null    object \n",
      " 13  display_size       893 non-null    float64\n",
      " 14  resolution_width   893 non-null    float64\n",
      " 15  resolution_height  893 non-null    float64\n",
      " 16  OS                 893 non-null    object \n",
      " 17  warranty           893 non-null    int64  \n",
      "dtypes: float64(4), int64(4), object(10)\n",
      "memory usage: 125.7+ KB\n"
     ]
    }
   ],
   "source": [
    "data.info()"
   ]
  },
  {
   "cell_type": "code",
   "execution_count": null,
   "metadata": {},
   "outputs": [],
   "source": []
  },
  {
   "cell_type": "code",
   "execution_count": 5,
   "metadata": {},
   "outputs": [],
   "source": [
    "from typing import List\n",
    "\n",
    "def remove_columns(df:pd.DataFrame,columns:List[str]):\n",
    "    df.drop(columns,axis=1,inplace=True)\n",
    "    return df"
   ]
  },
  {
   "cell_type": "code",
   "execution_count": 6,
   "metadata": {},
   "outputs": [],
   "source": [
    "data=remove_columns(data,[\"Unnamed: 0.1\",\"Unnamed: 0\",\"name\"])"
   ]
  },
  {
   "cell_type": "code",
   "execution_count": 7,
   "metadata": {},
   "outputs": [
    {
     "data": {
      "text/plain": [
       "Index(['brand', 'price', 'spec_rating', 'processor', 'CPU', 'Ram', 'Ram_type',\n",
       "       'ROM', 'ROM_type', 'GPU', 'display_size', 'resolution_width',\n",
       "       'resolution_height', 'OS', 'warranty'],\n",
       "      dtype='object')"
      ]
     },
     "execution_count": 7,
     "metadata": {},
     "output_type": "execute_result"
    }
   ],
   "source": [
    "data.columns"
   ]
  },
  {
   "cell_type": "code",
   "execution_count": 8,
   "metadata": {},
   "outputs": [
    {
     "data": {
      "image/png": "[encoded data removed]",
      "text/plain": [
       "<Figure size 1000x500 with 1 Axes>"
      ]
     },
     "metadata": {},
     "output_type": "display_data"
    }
   ],
   "source": [
    "plt.figure(figsize=(10,5))\n",
    "data.groupby([\"brand\"])[\"price\"].mean().sort_values(ascending=False).plot(kind=\"bar\")\n",
    "plt.show()"
   ]
  },
  {
   "cell_type": "markdown",
   "metadata": {},
   "source": [
    "- average price of laptop with respective brand\n",
    "- Laptop from Razer having highest average price followed by Apple,Gigabyte,LG,Samsung"
   ]
  },
  {
   "cell_type": "code",
   "execution_count": 9,
   "metadata": {},
   "outputs": [
    {
     "name": "stdout",
     "output_type": "stream",
     "text": [
      "60.0\n",
      "69.3790264145972\n",
      "89.0\n"
     ]
    },
    {
     "data": {
      "image/png": "[encoded data removed]",
      "text/plain": [
       "<Figure size 1000x500 with 1 Axes>"
      ]
     },
     "metadata": {},
     "output_type": "display_data"
    }
   ],
   "source": [
    "plt.figure(figsize=(10,5))\n",
    "data.groupby([\"brand\"])[\"spec_rating\"].median().sort_values(ascending=False).plot(kind=\"bar\")\n",
    "print(min(data.spec_rating))\n",
    "print(data.spec_rating.mean())\n",
    "print(max(data.spec_rating))\n",
    "plt.show()"
   ]
  },
  {
   "cell_type": "code",
   "execution_count": 10,
   "metadata": {},
   "outputs": [],
   "source": [
    "numerical_cols=data.select_dtypes([\"int64\",\"float32\",\"float64\"]).columns"
   ]
  },
  {
   "cell_type": "code",
   "execution_count": 11,
   "metadata": {},
   "outputs": [
    {
     "data": {
      "text/plain": [
       "Index(['price', 'spec_rating', 'display_size', 'resolution_width',\n",
       "       'resolution_height', 'warranty'],\n",
       "      dtype='object')"
      ]
     },
     "execution_count": 11,
     "metadata": {},
     "output_type": "execute_result"
    }
   ],
   "source": [
    "numerical_cols"
   ]
  },
  {
   "cell_type": "code",
   "execution_count": 12,
   "metadata": {},
   "outputs": [],
   "source": [
    "import seaborn as sns"
   ]
  },
  {
   "cell_type": "code",
   "execution_count": 13,
   "metadata": {},
   "outputs": [
    {
     "data": {
      "image/png": "[encoded data removed]",
      "text/plain": [
       "<Figure size 1000x600 with 1 Axes>"
      ]
     },
     "metadata": {},
     "output_type": "display_data"
    }
   ],
   "source": [
    "plt.figure(figsize=(10,6))\n",
    "plt.title(\"Spec Rating v/s Price\")\n",
    "sns.regplot(data=data,x=\"spec_rating\",y=\"price\")\n",
    "plt.show()"
   ]
  },
  {
   "cell_type": "markdown",
   "metadata": {},
   "source": [
    "- seems that price is proportional along with spec rating\n",
    "- also representing that not perfectly proportional to spec rating but also with some other features"
   ]
  },
  {
   "cell_type": "code",
   "execution_count": 14,
   "metadata": {},
   "outputs": [
    {
     "data": {
      "text/plain": [
       "<Axes: xlabel='display_size'>"
      ]
     },
     "execution_count": 14,
     "metadata": {},
     "output_type": "execute_result"
    },
    {
     "data": {
      "image/png": "[encoded data removed]",
      "text/plain": [
       "<Figure size 640x480 with 1 Axes>"
      ]
     },
     "metadata": {},
     "output_type": "display_data"
    }
   ],
   "source": [
    "data.display_size.value_counts().plot(kind=\"bar\")"
   ]
  },
  {
   "cell_type": "code",
   "execution_count": 15,
   "metadata": {},
   "outputs": [
    {
     "data": {
      "text/plain": [
       "<Axes: xlabel='display_size', ylabel='price'>"
      ]
     },
     "execution_count": 15,
     "metadata": {},
     "output_type": "execute_result"
    },
    {
     "data": {
      "image/png": "[encoded data removed]",
      "text/plain": [
       "<Figure size 640x480 with 1 Axes>"
      ]
     },
     "metadata": {},
     "output_type": "display_data"
    }
   ],
   "source": [
    "sns.scatterplot(data=data,x=\"display_size\",y=\"price\")"
   ]
  },
  {
   "cell_type": "code",
   "execution_count": 16,
   "metadata": {},
   "outputs": [
    {
     "data": {
      "text/plain": [
       "resolution_width\n",
       "1920.0    680\n",
       "2560.0     70\n",
       "1366.0     41\n",
       "2880.0     40\n",
       "3840.0     14\n",
       "3200.0     11\n",
       "1080.0      8\n",
       "1600.0      5\n",
       "3024.0      4\n",
       "1200.0      4\n",
       "3456.0      4\n",
       "2160.0      3\n",
       "2240.0      2\n",
       "2496.0      2\n",
       "1280.0      2\n",
       "2256.0      1\n",
       "3072.0      1\n",
       "1440.0      1\n",
       "Name: count, dtype: int64"
      ]
     },
     "execution_count": 16,
     "metadata": {},
     "output_type": "execute_result"
    }
   ],
   "source": [
    "data.resolution_width.value_counts()"
   ]
  },
  {
   "cell_type": "code",
   "execution_count": 17,
   "metadata": {},
   "outputs": [
    {
     "data": {
      "text/plain": [
       "<Axes: xlabel='resolution_width', ylabel='price'>"
      ]
     },
     "execution_count": 17,
     "metadata": {},
     "output_type": "execute_result"
    },
    {
     "data": {
      "image/png": "[encoded data removed]",
      "text/plain": [
       "<Figure size 640x480 with 1 Axes>"
      ]
     },
     "metadata": {},
     "output_type": "display_data"
    }
   ],
   "source": [
    "sns.scatterplot(data=data,x=\"resolution_width\",y=\"price\")"
   ]
  },
  {
   "cell_type": "code",
   "execution_count": 18,
   "metadata": {},
   "outputs": [
    {
     "data": {
      "text/html": [
       "<div>\n",
       "<style scoped>\n",
       "    .dataframe tbody tr th:only-of-type {\n",
       "        vertical-align: middle;\n",
       "    }\n",
       "\n",
       "    .dataframe tbody tr th {\n",
       "        vertical-align: top;\n",
       "    }\n",
       "\n",
       "    .dataframe thead th {\n",
       "        text-align: right;\n",
       "    }\n",
       "</style>\n",
       "<table border=\"1\" class=\"dataframe\">\n",
       "  <thead>\n",
       "    <tr style=\"text-align: right;\">\n",
       "      <th></th>\n",
       "      <th>price</th>\n",
       "      <th>spec_rating</th>\n",
       "      <th>display_size</th>\n",
       "      <th>resolution_width</th>\n",
       "      <th>resolution_height</th>\n",
       "      <th>warranty</th>\n",
       "    </tr>\n",
       "  </thead>\n",
       "  <tbody>\n",
       "    <tr>\n",
       "      <th>price</th>\n",
       "      <td>1.000000</td>\n",
       "      <td>0.546391</td>\n",
       "      <td>0.233815</td>\n",
       "      <td>0.586042</td>\n",
       "      <td>0.604748</td>\n",
       "      <td>0.117101</td>\n",
       "    </tr>\n",
       "    <tr>\n",
       "      <th>spec_rating</th>\n",
       "      <td>0.546391</td>\n",
       "      <td>1.000000</td>\n",
       "      <td>0.274206</td>\n",
       "      <td>0.337649</td>\n",
       "      <td>0.328525</td>\n",
       "      <td>0.109501</td>\n",
       "    </tr>\n",
       "    <tr>\n",
       "      <th>display_size</th>\n",
       "      <td>0.233815</td>\n",
       "      <td>0.274206</td>\n",
       "      <td>1.000000</td>\n",
       "      <td>0.125088</td>\n",
       "      <td>0.029692</td>\n",
       "      <td>0.041126</td>\n",
       "    </tr>\n",
       "    <tr>\n",
       "      <th>resolution_width</th>\n",
       "      <td>0.586042</td>\n",
       "      <td>0.337649</td>\n",
       "      <td>0.125088</td>\n",
       "      <td>1.000000</td>\n",
       "      <td>0.731557</td>\n",
       "      <td>0.024199</td>\n",
       "    </tr>\n",
       "    <tr>\n",
       "      <th>resolution_height</th>\n",
       "      <td>0.604748</td>\n",
       "      <td>0.328525</td>\n",
       "      <td>0.029692</td>\n",
       "      <td>0.731557</td>\n",
       "      <td>1.000000</td>\n",
       "      <td>-0.001060</td>\n",
       "    </tr>\n",
       "    <tr>\n",
       "      <th>warranty</th>\n",
       "      <td>0.117101</td>\n",
       "      <td>0.109501</td>\n",
       "      <td>0.041126</td>\n",
       "      <td>0.024199</td>\n",
       "      <td>-0.001060</td>\n",
       "      <td>1.000000</td>\n",
       "    </tr>\n",
       "  </tbody>\n",
       "</table>\n",
       "</div>"
      ],
      "text/plain": [
       "                      price  spec_rating  display_size  resolution_width  \\\n",
       "price              1.000000     0.546391      0.233815          0.586042   \n",
       "spec_rating        0.546391     1.000000      0.274206          0.337649   \n",
       "display_size       0.233815     0.274206      1.000000          0.125088   \n",
       "resolution_width   0.586042     0.337649      0.125088          1.000000   \n",
       "resolution_height  0.604748     0.328525      0.029692          0.731557   \n",
       "warranty           0.117101     0.109501      0.041126          0.024199   \n",
       "\n",
       "                   resolution_height  warranty  \n",
       "price                       0.604748  0.117101  \n",
       "spec_rating                 0.328525  0.109501  \n",
       "display_size                0.029692  0.041126  \n",
       "resolution_width            0.731557  0.024199  \n",
       "resolution_height           1.000000 -0.001060  \n",
       "warranty                   -0.001060  1.000000  "
      ]
     },
     "execution_count": 18,
     "metadata": {},
     "output_type": "execute_result"
    }
   ],
   "source": [
    "data[numerical_cols].corr()"
   ]
  },
  {
   "cell_type": "markdown",
   "metadata": {},
   "source": [
    "- by checking correlation b/w price and other features it is good to remove warranty feature because less correlated with price\n",
    "- resolution_height and resolution_width is correlated with 0.731 which introduce multicollinear in features,so it is good to remove one of them \n",
    "- resolution_width correlation with price is 0.586 and resolution_height correlation with price is 0.6047 so it is better to remove resolution_width"
   ]
  },
  {
   "cell_type": "markdown",
   "metadata": {},
   "source": [
    "##### Selected features from numerical columns\n",
    "- spec_rating\n",
    "- resolution_height\n",
    "- display_size"
   ]
  },
  {
   "cell_type": "code",
   "execution_count": 19,
   "metadata": {},
   "outputs": [
    {
     "data": {
      "text/plain": [
       "Index(['brand', 'processor', 'CPU', 'Ram', 'Ram_type', 'ROM', 'ROM_type',\n",
       "       'GPU', 'OS'],\n",
       "      dtype='object')"
      ]
     },
     "execution_count": 19,
     "metadata": {},
     "output_type": "execute_result"
    }
   ],
   "source": [
    "categorical_features=data.select_dtypes([\"object\"]).columns\n",
    "categorical_features"
   ]
  },
  {
   "cell_type": "code",
   "execution_count": 20,
   "metadata": {},
   "outputs": [
    {
     "data": {
      "text/plain": [
       "['spec_rating',\n",
       " 'resolution_height',\n",
       " 'display_size',\n",
       " 'brand',\n",
       " 'processor',\n",
       " 'CPU',\n",
       " 'Ram',\n",
       " 'Ram_type',\n",
       " 'ROM',\n",
       " 'ROM_type',\n",
       " 'GPU',\n",
       " 'OS']"
      ]
     },
     "execution_count": 20,
     "metadata": {},
     "output_type": "execute_result"
    }
   ],
   "source": [
    "features=[\"spec_rating\",\"resolution_height\",\"display_size\"]+list(categorical_features)\n",
    "features"
   ]
  },
  {
   "cell_type": "code",
   "execution_count": 21,
   "metadata": {},
   "outputs": [
    {
     "data": {
      "text/plain": [
       "array(['5th Gen AMD Ryzen 5 5600H', '12th Gen Intel Core i3 1215U',\n",
       "       '11th Gen Intel Core i3 1115G4', '12th Gen Intel Core i5 1240P',\n",
       "       'Apple M1', '12th Gen Intel Core i5 1240P',\n",
       "       '12th Gen Intel Core i3 1215U', '13th Gen Intel Core i5 13420H',\n",
       "       '12th Gen Intel Core i5 12500H', '12th Gen Intel Core i5 1240P',\n",
       "       '12th Gen Intel Core i7 1255U', 'Intel Celeron  N4020',\n",
       "       '12th Gen Intel Core i5 12500H', 'MediaTek MTK8788'], dtype=object)"
      ]
     },
     "execution_count": 21,
     "metadata": {},
     "output_type": "execute_result"
    }
   ],
   "source": [
    "data.processor.values[:14]"
   ]
  },
  {
   "cell_type": "code",
   "execution_count": 131,
   "metadata": {},
   "outputs": [],
   "source": []
  },
  {
   "cell_type": "code",
   "execution_count": 22,
   "metadata": {},
   "outputs": [],
   "source": [
    "import regex as re\n",
    "pattern=r\"(intel|amd|apple|mediatek)\"\n",
    "processor_processed=[re.findall(pattern,item.lower()) for item in data.processor.values]"
   ]
  },
  {
   "cell_type": "code",
   "execution_count": 23,
   "metadata": {},
   "outputs": [],
   "source": [
    "elements=[elem[0] for elem in processor_processed ]"
   ]
  },
  {
   "cell_type": "code",
   "execution_count": 24,
   "metadata": {},
   "outputs": [],
   "source": [
    "data['processor']=elements"
   ]
  },
  {
   "cell_type": "code",
   "execution_count": 25,
   "metadata": {},
   "outputs": [
    {
     "data": {
      "text/plain": [
       "0      amd\n",
       "1    intel\n",
       "2    intel\n",
       "3    intel\n",
       "4    apple\n",
       "Name: processor, dtype: object"
      ]
     },
     "execution_count": 25,
     "metadata": {},
     "output_type": "execute_result"
    }
   ],
   "source": [
    "data.processor[:5]"
   ]
  },
  {
   "cell_type": "code",
   "execution_count": 26,
   "metadata": {},
   "outputs": [
    {
     "data": {
      "text/plain": [
       "<BarContainer object of 9 artists>"
      ]
     },
     "execution_count": 26,
     "metadata": {},
     "output_type": "execute_result"
    },
    {
     "data": {
      "image/png": "[encoded data removed]",
      "text/plain": [
       "<Figure size 1000x400 with 1 Axes>"
      ]
     },
     "metadata": {},
     "output_type": "display_data"
    }
   ],
   "source": [
    "variants=[]\n",
    "for i in categorical_features:\n",
    "    elem=len(data[i].value_counts())\n",
    "    variants.append(elem)\n",
    "plt.figure(figsize=(10,4))\n",
    "plt.bar(categorical_features,variants)"
   ]
  },
  {
   "cell_type": "code",
   "execution_count": 27,
   "metadata": {},
   "outputs": [
    {
     "data": {
      "text/plain": [
       "0         4GB AMD Radeon RX 6500M\n",
       "1              Intel UHD Graphics\n",
       "2          Intel Iris Xe Graphics\n",
       "3        Intel Integrated Iris Xe\n",
       "4    Apple M1 Integrated Graphics\n",
       "5          Intel Iris Xe Graphics\n",
       "6              Intel UHD Graphics\n",
       "7     6GB NVIDIA GeForce RTX 4050\n",
       "8                   Intel Iris Xe\n",
       "9          Intel Iris Xe Graphics\n",
       "Name: GPU, dtype: object"
      ]
     },
     "execution_count": 27,
     "metadata": {},
     "output_type": "execute_result"
    }
   ],
   "source": [
    "data.GPU[:10]"
   ]
  },
  {
   "cell_type": "code",
   "execution_count": 28,
   "metadata": {},
   "outputs": [],
   "source": [
    "import regex as re\n",
    "pattern=r\"(intel|arm|amd|apple|nvidia|radeon|geforce|iris xe graphics|core|integrated uhd graphics)\"\n",
    "gpu_processed=[re.findall(pattern,item.lower()) for item in data.GPU.values]"
   ]
  },
  {
   "cell_type": "code",
   "execution_count": 29,
   "metadata": {},
   "outputs": [
    {
     "data": {
      "text/plain": [
       "[['amd', 'radeon'],\n",
       " ['intel'],\n",
       " ['intel', 'iris xe graphics'],\n",
       " ['intel'],\n",
       " ['apple'],\n",
       " ['intel', 'iris xe graphics'],\n",
       " ['intel'],\n",
       " ['nvidia', 'geforce'],\n",
       " ['intel'],\n",
       " ['intel', 'iris xe graphics'],\n",
       " ['intel'],\n",
       " ['intel', 'integrated uhd graphics'],\n",
       " ['nvidia', 'geforce'],\n",
       " ['arm'],\n",
       " ['amd', 'radeon'],\n",
       " ['nvidia', 'geforce'],\n",
       " ['intel'],\n",
       " ['intel'],\n",
       " ['nvidia', 'geforce'],\n",
       " ['nvidia', 'geforce'],\n",
       " ['amd', 'radeon'],\n",
       " ['core'],\n",
       " ['nvidia', 'geforce'],\n",
       " ['intel', 'iris xe graphics'],\n",
       " ['amd', 'radeon'],\n",
       " ['amd', 'radeon', 'amd'],\n",
       " ['amd'],\n",
       " ['intel'],\n",
       " ['nvidia', 'geforce'],\n",
       " ['intel'],\n",
       " ['nvidia', 'geforce'],\n",
       " ['nvidia', 'geforce'],\n",
       " ['amd', 'radeon'],\n",
       " ['amd'],\n",
       " ['nvidia', 'geforce'],\n",
       " ['intel'],\n",
       " ['nvidia', 'geforce'],\n",
       " ['intel'],\n",
       " ['intel'],\n",
       " ['nvidia', 'geforce'],\n",
       " ['intel'],\n",
       " ['nvidia', 'geforce'],\n",
       " ['intel'],\n",
       " ['intel'],\n",
       " ['nvidia', 'geforce'],\n",
       " ['nvidia', 'geforce'],\n",
       " ['intel'],\n",
       " ['amd', 'radeon', 'radeon'],\n",
       " ['nvidia', 'geforce'],\n",
       " ['nvidia', 'geforce'],\n",
       " ['intel', 'intel'],\n",
       " ['amd', 'radeon'],\n",
       " ['intel'],\n",
       " ['amd', 'radeon'],\n",
       " ['nvidia', 'geforce'],\n",
       " ['intel'],\n",
       " ['amd', 'radeon', 'amd'],\n",
       " ['intel', 'iris xe graphics'],\n",
       " ['nvidia', 'geforce'],\n",
       " ['nvidia', 'geforce'],\n",
       " ['nvidia', 'geforce'],\n",
       " ['nvidia', 'geforce'],\n",
       " ['nvidia', 'geforce'],\n",
       " ['intel', 'iris xe graphics'],\n",
       " ['intel'],\n",
       " ['intel'],\n",
       " ['intel', 'intel'],\n",
       " ['nvidia', 'geforce'],\n",
       " ['intel', 'iris xe graphics'],\n",
       " ['nvidia', 'geforce'],\n",
       " ['nvidia', 'geforce'],\n",
       " ['intel'],\n",
       " ['nvidia', 'geforce'],\n",
       " ['amd', 'radeon', 'radeon'],\n",
       " ['amd', 'radeon'],\n",
       " ['nvidia'],\n",
       " ['nvidia', 'geforce'],\n",
       " ['intel'],\n",
       " ['intel'],\n",
       " ['intel'],\n",
       " ['nvidia', 'geforce'],\n",
       " ['nvidia', 'geforce'],\n",
       " ['intel', 'iris xe graphics'],\n",
       " ['nvidia', 'geforce'],\n",
       " ['intel'],\n",
       " ['nvidia', 'geforce'],\n",
       " ['nvidia', 'geforce'],\n",
       " ['nvidia', 'geforce'],\n",
       " ['intel', 'iris xe graphics'],\n",
       " ['intel', 'intel'],\n",
       " ['nvidia', 'geforce'],\n",
       " ['intel'],\n",
       " ['nvidia', 'geforce'],\n",
       " ['nvidia', 'geforce'],\n",
       " ['nvidia', 'geforce'],\n",
       " ['core'],\n",
       " ['intel'],\n",
       " ['intel'],\n",
       " ['intel'],\n",
       " ['nvidia', 'geforce'],\n",
       " ['amd', 'radeon'],\n",
       " ['amd', 'radeon'],\n",
       " ['intel'],\n",
       " ['amd', 'radeon', 'amd'],\n",
       " ['intel', 'iris xe graphics'],\n",
       " ['intel'],\n",
       " ['intel'],\n",
       " ['nvidia', 'geforce'],\n",
       " ['intel'],\n",
       " ['intel'],\n",
       " ['intel'],\n",
       " ['nvidia', 'geforce'],\n",
       " ['intel'],\n",
       " ['amd', 'radeon', 'amd'],\n",
       " ['intel', 'iris xe graphics'],\n",
       " ['intel'],\n",
       " ['nvidia', 'geforce'],\n",
       " ['nvidia', 'geforce'],\n",
       " ['intel'],\n",
       " ['nvidia', 'geforce'],\n",
       " ['nvidia', 'geforce'],\n",
       " ['intel'],\n",
       " ['nvidia', 'geforce'],\n",
       " ['intel'],\n",
       " ['intel'],\n",
       " ['amd', 'radeon', 'radeon'],\n",
       " ['intel', 'intel', 'iris xe graphics'],\n",
       " ['intel', 'iris xe graphics'],\n",
       " ['intel', 'integrated uhd graphics'],\n",
       " ['intel'],\n",
       " ['intel'],\n",
       " ['nvidia', 'geforce'],\n",
       " ['intel'],\n",
       " ['intel'],\n",
       " ['amd', 'radeon'],\n",
       " ['amd', 'radeon'],\n",
       " ['intel', 'integrated uhd graphics'],\n",
       " ['amd', 'radeon'],\n",
       " ['intel'],\n",
       " ['intel', 'iris xe graphics'],\n",
       " ['intel'],\n",
       " ['nvidia', 'geforce'],\n",
       " ['amd', 'radeon'],\n",
       " ['intel'],\n",
       " ['nvidia', 'geforce'],\n",
       " ['nvidia', 'geforce'],\n",
       " ['amd', 'radeon'],\n",
       " ['intel', 'iris xe graphics'],\n",
       " ['intel'],\n",
       " ['nvidia', 'geforce'],\n",
       " ['amd', 'radeon'],\n",
       " ['intel', 'iris xe graphics'],\n",
       " ['intel', 'iris xe graphics'],\n",
       " ['nvidia'],\n",
       " ['nvidia', 'geforce'],\n",
       " ['nvidia', 'geforce'],\n",
       " ['intel', 'intel'],\n",
       " ['intel', 'iris xe graphics'],\n",
       " ['core'],\n",
       " ['intel'],\n",
       " ['amd', 'radeon'],\n",
       " ['intel', 'intel', 'iris xe graphics'],\n",
       " ['nvidia', 'geforce'],\n",
       " ['nvidia', 'geforce'],\n",
       " ['nvidia', 'geforce'],\n",
       " ['nvidia', 'geforce'],\n",
       " ['intel'],\n",
       " ['intel'],\n",
       " ['nvidia', 'geforce'],\n",
       " ['amd', 'radeon'],\n",
       " ['nvidia', 'geforce'],\n",
       " ['intel', 'iris xe graphics'],\n",
       " ['nvidia', 'geforce'],\n",
       " ['intel'],\n",
       " ['intel'],\n",
       " ['nvidia', 'geforce'],\n",
       " ['nvidia', 'geforce'],\n",
       " ['nvidia', 'geforce'],\n",
       " ['amd', 'radeon'],\n",
       " ['intel'],\n",
       " ['amd', 'radeon', 'amd'],\n",
       " ['nvidia', 'geforce'],\n",
       " ['amd', 'radeon'],\n",
       " ['amd', 'radeon', 'amd'],\n",
       " ['intel'],\n",
       " ['nvidia', 'geforce'],\n",
       " ['intel'],\n",
       " ['intel'],\n",
       " ['intel', 'iris xe graphics'],\n",
       " ['intel', 'iris xe graphics'],\n",
       " ['amd', 'radeon'],\n",
       " ['intel', 'iris xe graphics'],\n",
       " ['nvidia', 'geforce'],\n",
       " ['amd', 'radeon'],\n",
       " ['intel', 'iris xe graphics'],\n",
       " ['intel', 'iris xe graphics'],\n",
       " ['nvidia', 'geforce'],\n",
       " ['amd', 'radeon'],\n",
       " ['amd', 'radeon'],\n",
       " ['intel'],\n",
       " ['intel'],\n",
       " ['amd', 'radeon'],\n",
       " ['intel'],\n",
       " ['amd', 'radeon'],\n",
       " ['nvidia', 'geforce'],\n",
       " ['intel', 'integrated uhd graphics'],\n",
       " ['core'],\n",
       " ['intel', 'iris xe graphics'],\n",
       " ['intel', 'iris xe graphics'],\n",
       " ['intel'],\n",
       " ['intel', 'iris xe graphics'],\n",
       " ['intel', 'iris xe graphics'],\n",
       " ['intel'],\n",
       " ['apple'],\n",
       " ['amd', 'radeon'],\n",
       " ['radeon'],\n",
       " ['nvidia', 'geforce'],\n",
       " ['intel', 'iris xe graphics'],\n",
       " ['nvidia', 'geforce'],\n",
       " ['intel'],\n",
       " ['nvidia', 'geforce'],\n",
       " ['amd', 'radeon'],\n",
       " ['intel'],\n",
       " ['intel'],\n",
       " ['nvidia', 'geforce'],\n",
       " ['nvidia', 'geforce'],\n",
       " ['nvidia', 'geforce'],\n",
       " ['nvidia', 'geforce'],\n",
       " ['nvidia', 'geforce'],\n",
       " ['nvidia', 'geforce'],\n",
       " ['intel'],\n",
       " ['nvidia', 'geforce'],\n",
       " ['intel'],\n",
       " ['intel', 'iris xe graphics'],\n",
       " ['intel'],\n",
       " ['intel'],\n",
       " ['intel'],\n",
       " ['intel'],\n",
       " ['amd', 'radeon'],\n",
       " ['intel'],\n",
       " ['intel'],\n",
       " ['intel', 'iris xe graphics'],\n",
       " ['intel', 'iris xe graphics'],\n",
       " ['intel'],\n",
       " ['intel'],\n",
       " ['nvidia', 'geforce'],\n",
       " ['nvidia', 'geforce'],\n",
       " ['intel'],\n",
       " ['nvidia', 'geforce'],\n",
       " ['amd', 'radeon'],\n",
       " ['nvidia', 'geforce'],\n",
       " ['nvidia', 'geforce'],\n",
       " ['intel', 'intel'],\n",
       " ['nvidia', 'geforce'],\n",
       " ['nvidia', 'geforce'],\n",
       " ['intel'],\n",
       " ['intel'],\n",
       " ['intel'],\n",
       " ['intel', 'iris xe graphics'],\n",
       " ['intel', 'intel', 'iris xe graphics'],\n",
       " ['intel'],\n",
       " ['intel', 'iris xe graphics'],\n",
       " ['nvidia', 'geforce'],\n",
       " ['amd', 'radeon'],\n",
       " ['amd', 'radeon'],\n",
       " ['intel'],\n",
       " ['amd', 'radeon', 'amd', 'radeon'],\n",
       " ['nvidia', 'geforce'],\n",
       " ['amd', 'radeon'],\n",
       " ['nvidia', 'geforce'],\n",
       " ['intel'],\n",
       " ['intel'],\n",
       " ['intel'],\n",
       " ['intel'],\n",
       " ['intel', 'iris xe graphics'],\n",
       " ['nvidia', 'geforce'],\n",
       " ['intel', 'intel', 'iris xe graphics'],\n",
       " ['nvidia', 'geforce'],\n",
       " ['nvidia', 'geforce'],\n",
       " ['intel'],\n",
       " ['intel'],\n",
       " ['intel'],\n",
       " ['nvidia', 'geforce'],\n",
       " ['nvidia', 'geforce'],\n",
       " ['nvidia', 'geforce'],\n",
       " ['amd'],\n",
       " ['intel'],\n",
       " ['intel'],\n",
       " ['nvidia', 'geforce'],\n",
       " ['nvidia', 'geforce'],\n",
       " ['nvidia', 'geforce'],\n",
       " ['intel', 'integrated uhd graphics'],\n",
       " ['intel'],\n",
       " ['intel', 'iris xe graphics'],\n",
       " ['amd', 'radeon', 'amd'],\n",
       " ['intel'],\n",
       " ['intel'],\n",
       " ['intel', 'iris xe graphics'],\n",
       " ['nvidia', 'geforce'],\n",
       " ['intel'],\n",
       " ['intel'],\n",
       " ['amd', 'radeon'],\n",
       " ['amd', 'radeon', 'amd'],\n",
       " ['intel'],\n",
       " ['amd', 'radeon', 'amd'],\n",
       " ['amd', 'radeon'],\n",
       " ['nvidia', 'geforce'],\n",
       " ['intel', 'iris xe graphics'],\n",
       " ['nvidia', 'geforce'],\n",
       " ['intel'],\n",
       " ['amd', 'radeon'],\n",
       " ['amd', 'radeon'],\n",
       " ['intel'],\n",
       " ['nvidia', 'geforce'],\n",
       " ['intel', 'iris xe graphics'],\n",
       " ['nvidia', 'geforce'],\n",
       " ['intel', 'iris xe graphics'],\n",
       " ['nvidia', 'geforce'],\n",
       " ['amd', 'radeon', 'amd'],\n",
       " ['nvidia', 'geforce'],\n",
       " ['nvidia', 'geforce'],\n",
       " ['nvidia', 'geforce'],\n",
       " ['nvidia', 'geforce'],\n",
       " ['nvidia', 'geforce'],\n",
       " ['nvidia', 'geforce'],\n",
       " ['nvidia', 'geforce'],\n",
       " ['intel'],\n",
       " ['intel'],\n",
       " ['intel'],\n",
       " ['amd', 'radeon', 'amd'],\n",
       " ['intel'],\n",
       " ['nvidia', 'geforce'],\n",
       " ['nvidia', 'geforce'],\n",
       " ['intel'],\n",
       " ['nvidia', 'geforce'],\n",
       " ['nvidia', 'geforce'],\n",
       " ['nvidia', 'geforce'],\n",
       " ['amd', 'radeon'],\n",
       " ['amd', 'radeon', 'amd'],\n",
       " ['nvidia', 'geforce'],\n",
       " ['intel', 'integrated uhd graphics'],\n",
       " ['intel', 'intel', 'iris xe graphics'],\n",
       " ['intel', 'iris xe graphics'],\n",
       " ['intel'],\n",
       " ['amd', 'radeon'],\n",
       " ['intel', 'iris xe graphics'],\n",
       " ['nvidia', 'geforce'],\n",
       " ['amd', 'radeon'],\n",
       " ['amd', 'radeon', 'amd'],\n",
       " ['amd', 'radeon', 'amd'],\n",
       " ['intel'],\n",
       " ['intel', 'integrated uhd graphics'],\n",
       " ['amd', 'radeon', 'amd'],\n",
       " ['nvidia', 'geforce'],\n",
       " ['nvidia', 'geforce'],\n",
       " ['intel'],\n",
       " ['nvidia', 'geforce'],\n",
       " ['intel'],\n",
       " ['amd', 'radeon', 'amd'],\n",
       " ['amd', 'radeon', 'amd'],\n",
       " ['intel', 'iris xe graphics'],\n",
       " ['intel'],\n",
       " ['intel', 'iris xe graphics'],\n",
       " ['intel', 'iris xe graphics'],\n",
       " ['intel', 'iris xe graphics'],\n",
       " ['intel', 'iris xe graphics'],\n",
       " ['intel', 'iris xe graphics'],\n",
       " ['intel', 'iris xe graphics'],\n",
       " ['intel', 'iris xe graphics'],\n",
       " ['intel', 'iris xe graphics'],\n",
       " ['intel', 'iris xe graphics'],\n",
       " ['nvidia', 'geforce'],\n",
       " ['amd', 'radeon'],\n",
       " ['intel'],\n",
       " ['intel'],\n",
       " ['core'],\n",
       " ['core'],\n",
       " ['intel'],\n",
       " ['amd', 'radeon', 'amd'],\n",
       " ['nvidia', 'geforce'],\n",
       " ['nvidia', 'geforce'],\n",
       " ['intel'],\n",
       " ['amd', 'radeon'],\n",
       " ['amd', 'radeon', 'amd'],\n",
       " ['intel', 'intel'],\n",
       " ['amd', 'radeon', 'amd'],\n",
       " ['intel', 'iris xe graphics'],\n",
       " ['intel', 'integrated uhd graphics'],\n",
       " ['intel', 'iris xe graphics'],\n",
       " ['intel', 'iris xe graphics'],\n",
       " ['intel'],\n",
       " ['intel'],\n",
       " ['amd', 'radeon', 'amd'],\n",
       " ['amd', 'radeon', 'amd'],\n",
       " ['amd', 'radeon', 'amd'],\n",
       " ['nvidia', 'geforce'],\n",
       " ['nvidia', 'geforce'],\n",
       " ['amd', 'radeon', 'amd'],\n",
       " ['amd', 'radeon', 'amd'],\n",
       " ['amd', 'radeon', 'amd'],\n",
       " ['amd', 'radeon', 'amd'],\n",
       " ['amd', 'radeon', 'amd'],\n",
       " ['nvidia', 'geforce'],\n",
       " ['intel'],\n",
       " ['amd', 'radeon'],\n",
       " ['nvidia', 'geforce'],\n",
       " ['amd', 'radeon'],\n",
       " ['intel', 'iris xe graphics'],\n",
       " ['intel'],\n",
       " ['nvidia', 'geforce'],\n",
       " ['intel'],\n",
       " ['intel'],\n",
       " ['intel'],\n",
       " ['intel'],\n",
       " ['intel', 'iris xe graphics'],\n",
       " ['intel'],\n",
       " ['intel'],\n",
       " ['intel', 'integrated uhd graphics'],\n",
       " ['intel'],\n",
       " ['nvidia', 'geforce'],\n",
       " ['nvidia', 'geforce'],\n",
       " ['intel', 'iris xe graphics'],\n",
       " ['amd', 'radeon'],\n",
       " ['amd', 'radeon'],\n",
       " ['nvidia', 'geforce'],\n",
       " ['amd', 'radeon'],\n",
       " ['intel'],\n",
       " ['intel'],\n",
       " ['nvidia', 'geforce'],\n",
       " ['nvidia', 'geforce'],\n",
       " ['nvidia', 'geforce'],\n",
       " ['amd', 'radeon'],\n",
       " ['amd', 'radeon'],\n",
       " ['intel'],\n",
       " ['intel'],\n",
       " ['intel', 'intel'],\n",
       " ['nvidia', 'geforce'],\n",
       " ['intel', 'iris xe graphics'],\n",
       " ['amd', 'radeon'],\n",
       " ['intel'],\n",
       " ['intel', 'iris xe graphics'],\n",
       " ['nvidia', 'geforce'],\n",
       " ['intel'],\n",
       " ['intel'],\n",
       " ['intel'],\n",
       " ['intel'],\n",
       " ['amd', 'radeon'],\n",
       " ['amd', 'radeon'],\n",
       " ['amd', 'radeon'],\n",
       " ['intel'],\n",
       " ['nvidia', 'geforce'],\n",
       " ['nvidia', 'geforce'],\n",
       " ['intel', 'iris xe graphics'],\n",
       " ['amd', 'radeon', 'radeon'],\n",
       " ['nvidia', 'geforce'],\n",
       " ['intel', 'iris xe graphics'],\n",
       " ['nvidia', 'geforce'],\n",
       " ['nvidia', 'geforce'],\n",
       " ['intel', 'iris xe graphics'],\n",
       " ['intel'],\n",
       " ['intel', 'iris xe graphics'],\n",
       " ['nvidia', 'geforce'],\n",
       " ['intel'],\n",
       " ['amd', 'radeon'],\n",
       " ['intel'],\n",
       " ['intel'],\n",
       " ['amd', 'radeon', 'amd'],\n",
       " ['amd', 'radeon'],\n",
       " ['core'],\n",
       " ['core'],\n",
       " ['intel', 'iris xe graphics'],\n",
       " ['intel'],\n",
       " ['nvidia', 'geforce'],\n",
       " ['nvidia', 'geforce'],\n",
       " ['intel'],\n",
       " ['amd', 'radeon'],\n",
       " ['amd', 'radeon'],\n",
       " ['intel', 'iris xe graphics'],\n",
       " ['amd', 'radeon'],\n",
       " ['amd', 'radeon'],\n",
       " ['nvidia', 'geforce'],\n",
       " ['integrated uhd graphics'],\n",
       " ['intel'],\n",
       " ['intel'],\n",
       " ['intel'],\n",
       " ['intel', 'iris xe graphics'],\n",
       " ['intel', 'iris xe graphics'],\n",
       " ['intel'],\n",
       " ['intel', 'iris xe graphics'],\n",
       " ['nvidia', 'geforce'],\n",
       " ['nvidia', 'geforce'],\n",
       " ['intel'],\n",
       " ['intel', 'integrated uhd graphics'],\n",
       " ['intel'],\n",
       " ['intel'],\n",
       " ['intel', 'iris xe graphics'],\n",
       " ['amd', 'radeon', 'amd'],\n",
       " ['intel'],\n",
       " ['intel', 'iris xe graphics'],\n",
       " ['intel', 'iris xe graphics'],\n",
       " ['intel', 'iris xe graphics'],\n",
       " ['intel', 'iris xe graphics'],\n",
       " ['intel'],\n",
       " ['amd', 'radeon', 'amd'],\n",
       " ['core'],\n",
       " ['core'],\n",
       " ['intel'],\n",
       " ['intel', 'iris xe graphics'],\n",
       " ['intel', 'iris xe graphics'],\n",
       " ['intel'],\n",
       " ['amd', 'radeon'],\n",
       " ['intel'],\n",
       " ['amd', 'radeon'],\n",
       " ['intel'],\n",
       " ['intel'],\n",
       " ['geforce'],\n",
       " ['intel'],\n",
       " ['nvidia', 'geforce'],\n",
       " ['nvidia', 'geforce'],\n",
       " ['amd', 'radeon'],\n",
       " ['intel'],\n",
       " ['nvidia', 'geforce'],\n",
       " ['amd', 'radeon'],\n",
       " ['amd', 'radeon', 'amd'],\n",
       " ['amd', 'radeon', 'amd'],\n",
       " ['intel', 'iris xe graphics'],\n",
       " ['nvidia', 'geforce'],\n",
       " ['intel'],\n",
       " ['intel', 'iris xe graphics'],\n",
       " ['amd', 'radeon'],\n",
       " ['amd', 'radeon'],\n",
       " ['intel'],\n",
       " ['amd', 'radeon'],\n",
       " ['nvidia', 'geforce'],\n",
       " ['nvidia', 'geforce'],\n",
       " ['nvidia', 'geforce'],\n",
       " ['amd', 'radeon', 'amd'],\n",
       " ['intel'],\n",
       " ['nvidia', 'geforce'],\n",
       " ['intel'],\n",
       " ['intel', 'integrated uhd graphics'],\n",
       " ['intel'],\n",
       " ['nvidia', 'geforce'],\n",
       " ['nvidia', 'geforce'],\n",
       " ['nvidia', 'geforce'],\n",
       " ['nvidia', 'geforce'],\n",
       " ['intel'],\n",
       " ['nvidia', 'geforce'],\n",
       " ['nvidia', 'geforce'],\n",
       " ['nvidia', 'geforce'],\n",
       " ['amd', 'radeon'],\n",
       " ['nvidia', 'geforce'],\n",
       " ['nvidia', 'geforce'],\n",
       " ['nvidia', 'geforce'],\n",
       " ['nvidia', 'geforce'],\n",
       " ['nvidia', 'geforce'],\n",
       " ['intel', 'iris xe graphics'],\n",
       " ['intel', 'iris xe graphics'],\n",
       " ['nvidia', 'geforce'],\n",
       " ['nvidia', 'geforce'],\n",
       " ['nvidia', 'geforce'],\n",
       " ['nvidia', 'geforce'],\n",
       " ['nvidia'],\n",
       " ['intel'],\n",
       " ['intel', 'iris xe graphics'],\n",
       " ['amd', 'radeon'],\n",
       " ['intel'],\n",
       " ['intel'],\n",
       " ['intel'],\n",
       " ['intel'],\n",
       " ['amd', 'radeon'],\n",
       " ['nvidia', 'geforce'],\n",
       " ['intel', 'iris xe graphics'],\n",
       " ['intel'],\n",
       " ['intel'],\n",
       " ['amd', 'radeon'],\n",
       " ['amd', 'radeon'],\n",
       " ['amd', 'radeon'],\n",
       " ['intel'],\n",
       " ['amd', 'radeon'],\n",
       " ['nvidia', 'geforce'],\n",
       " ['intel'],\n",
       " ['intel'],\n",
       " ['intel'],\n",
       " ['amd', 'radeon'],\n",
       " ['nvidia', 'geforce'],\n",
       " ['intel'],\n",
       " ['amd', 'radeon'],\n",
       " ['nvidia', 'geforce'],\n",
       " ['intel'],\n",
       " ['amd', 'radeon', 'amd'],\n",
       " ['intel', 'iris xe graphics'],\n",
       " ['intel'],\n",
       " ['nvidia', 'geforce'],\n",
       " ['amd', 'radeon'],\n",
       " ['amd', 'radeon'],\n",
       " ['intel'],\n",
       " ['amd', 'radeon'],\n",
       " ['nvidia', 'geforce'],\n",
       " ['nvidia', 'geforce'],\n",
       " ['intel'],\n",
       " ['nvidia', 'geforce'],\n",
       " ['amd', 'radeon', 'amd'],\n",
       " ['nvidia', 'geforce'],\n",
       " ['amd', 'radeon', 'amd'],\n",
       " ['amd', 'radeon'],\n",
       " ['intel'],\n",
       " ['intel', 'iris xe graphics'],\n",
       " ['intel', 'iris xe graphics'],\n",
       " ['intel', 'iris xe graphics'],\n",
       " ['intel'],\n",
       " ['intel'],\n",
       " ['amd', 'radeon'],\n",
       " ['nvidia', 'geforce'],\n",
       " ['intel', 'iris xe graphics'],\n",
       " ['intel'],\n",
       " ['intel', 'iris xe graphics'],\n",
       " ['intel', 'iris xe graphics'],\n",
       " ['intel', 'iris xe graphics'],\n",
       " ['amd', 'radeon'],\n",
       " ['nvidia', 'geforce'],\n",
       " ['nvidia', 'geforce'],\n",
       " ['amd', 'radeon'],\n",
       " ['intel'],\n",
       " ['nvidia', 'geforce'],\n",
       " ['intel'],\n",
       " ['intel', 'intel'],\n",
       " ['nvidia', 'geforce'],\n",
       " ['nvidia', 'geforce'],\n",
       " ['intel'],\n",
       " ['intel'],\n",
       " ['intel'],\n",
       " ['intel'],\n",
       " ['intel'],\n",
       " ['intel'],\n",
       " ['nvidia', 'geforce'],\n",
       " ['nvidia', 'geforce'],\n",
       " ['amd', 'radeon', 'amd'],\n",
       " ['nvidia', 'geforce'],\n",
       " ['intel', 'iris xe graphics'],\n",
       " ['amd'],\n",
       " ['amd', 'radeon'],\n",
       " ['intel'],\n",
       " ['nvidia', 'geforce'],\n",
       " ['nvidia', 'geforce'],\n",
       " ['nvidia', 'geforce'],\n",
       " ['nvidia', 'geforce'],\n",
       " ['nvidia', 'geforce'],\n",
       " ['intel'],\n",
       " ['amd', 'radeon'],\n",
       " ['nvidia', 'geforce'],\n",
       " ['amd', 'radeon', 'amd'],\n",
       " ['amd', 'radeon', 'amd'],\n",
       " ['amd', 'radeon', 'amd'],\n",
       " ['intel'],\n",
       " ['nvidia', 'geforce'],\n",
       " ['nvidia', 'geforce'],\n",
       " ['intel', 'iris xe graphics'],\n",
       " ['intel', 'iris xe graphics'],\n",
       " ['nvidia', 'geforce'],\n",
       " ['nvidia', 'geforce'],\n",
       " ['nvidia', 'geforce'],\n",
       " ['amd', 'radeon', 'amd'],\n",
       " ['intel'],\n",
       " ['intel'],\n",
       " ['intel'],\n",
       " ['intel'],\n",
       " ['intel'],\n",
       " ['intel', 'iris xe graphics'],\n",
       " ['amd', 'radeon'],\n",
       " ['intel', 'iris xe graphics'],\n",
       " ['intel', 'iris xe graphics'],\n",
       " ['intel', 'iris xe graphics'],\n",
       " ['intel', 'iris xe graphics'],\n",
       " ['intel', 'iris xe graphics'],\n",
       " ['nvidia', 'geforce'],\n",
       " ['nvidia', 'geforce'],\n",
       " ['nvidia', 'geforce'],\n",
       " ['nvidia', 'geforce'],\n",
       " ['nvidia', 'geforce'],\n",
       " ['nvidia', 'geforce'],\n",
       " ['nvidia', 'geforce'],\n",
       " ['nvidia', 'geforce'],\n",
       " ['nvidia', 'geforce'],\n",
       " ['nvidia', 'geforce'],\n",
       " ['nvidia', 'geforce'],\n",
       " ['amd'],\n",
       " ['intel'],\n",
       " ['intel'],\n",
       " ['nvidia', 'geforce'],\n",
       " ['intel', 'iris xe graphics'],\n",
       " ['nvidia', 'geforce'],\n",
       " ['intel'],\n",
       " ['nvidia', 'geforce'],\n",
       " ['intel'],\n",
       " ['nvidia', 'geforce'],\n",
       " ['nvidia', 'geforce'],\n",
       " ['nvidia', 'geforce'],\n",
       " ['nvidia', 'geforce'],\n",
       " ['nvidia', 'geforce'],\n",
       " ['nvidia', 'geforce'],\n",
       " ['amd', 'radeon'],\n",
       " ['nvidia', 'geforce'],\n",
       " ['intel'],\n",
       " ['nvidia', 'geforce'],\n",
       " ['intel'],\n",
       " ['intel'],\n",
       " ['amd'],\n",
       " ['amd', 'radeon'],\n",
       " ['nvidia'],\n",
       " ['intel', 'iris xe graphics'],\n",
       " ['nvidia', 'geforce'],\n",
       " ['nvidia', 'geforce'],\n",
       " ['intel'],\n",
       " ['nvidia', 'geforce'],\n",
       " ['amd', 'radeon', 'radeon'],\n",
       " ['intel'],\n",
       " ['nvidia', 'geforce'],\n",
       " ['nvidia', 'geforce'],\n",
       " ['amd', 'radeon'],\n",
       " ['nvidia', 'geforce'],\n",
       " ['nvidia', 'geforce'],\n",
       " ['amd', 'radeon'],\n",
       " ['nvidia', 'geforce'],\n",
       " ['amd', 'radeon', 'amd'],\n",
       " ['nvidia', 'geforce'],\n",
       " ['nvidia', 'geforce'],\n",
       " ['nvidia', 'geforce'],\n",
       " ['nvidia', 'geforce'],\n",
       " ['intel', 'iris xe graphics'],\n",
       " ['intel'],\n",
       " ['nvidia', 'geforce'],\n",
       " ['intel', 'iris xe graphics'],\n",
       " ['intel', 'iris xe graphics'],\n",
       " ['intel', 'integrated uhd graphics'],\n",
       " ['nvidia'],\n",
       " ['nvidia', 'geforce'],\n",
       " ['nvidia', 'geforce'],\n",
       " ['nvidia', 'geforce'],\n",
       " ['nvidia', 'geforce'],\n",
       " ['nvidia', 'geforce'],\n",
       " ['nvidia', 'geforce'],\n",
       " ['intel', 'iris xe graphics'],\n",
       " ['intel'],\n",
       " ['nvidia', 'geforce'],\n",
       " ['amd', 'radeon'],\n",
       " ['intel', 'iris xe graphics'],\n",
       " ['intel', 'iris xe graphics'],\n",
       " ['amd', 'radeon'],\n",
       " ['nvidia', 'geforce'],\n",
       " ['intel'],\n",
       " ['intel'],\n",
       " ['intel'],\n",
       " ['nvidia', 'geforce'],\n",
       " ['nvidia', 'geforce'],\n",
       " ['amd', 'radeon', 'amd'],\n",
       " ['nvidia', 'geforce'],\n",
       " ['amd', 'radeon'],\n",
       " ['nvidia', 'geforce'],\n",
       " ['intel', 'iris xe graphics'],\n",
       " ['nvidia', 'geforce'],\n",
       " ['intel', 'iris xe graphics'],\n",
       " ['amd', 'radeon'],\n",
       " ['intel'],\n",
       " ['amd', 'radeon', 'amd'],\n",
       " ['amd', 'radeon', 'amd'],\n",
       " ['amd', 'radeon', 'amd'],\n",
       " ['intel'],\n",
       " ['amd', 'radeon', 'amd'],\n",
       " ['intel'],\n",
       " ['amd', 'radeon', 'amd'],\n",
       " ['amd', 'radeon'],\n",
       " ['intel'],\n",
       " ['iris xe graphics'],\n",
       " ['nvidia', 'geforce'],\n",
       " ['nvidia', 'geforce'],\n",
       " ['intel'],\n",
       " ['intel'],\n",
       " ['amd', 'radeon', 'amd'],\n",
       " ['intel'],\n",
       " ['amd', 'radeon'],\n",
       " ['nvidia', 'geforce'],\n",
       " ['nvidia', 'geforce'],\n",
       " ['intel', 'iris xe graphics'],\n",
       " ['amd', 'radeon', 'radeon'],\n",
       " ['amd', 'radeon'],\n",
       " ['intel', 'iris xe graphics'],\n",
       " ['nvidia'],\n",
       " ['intel', 'iris xe graphics'],\n",
       " ['nvidia', 'geforce'],\n",
       " ['amd', 'radeon', 'amd'],\n",
       " ['nvidia', 'geforce'],\n",
       " ['nvidia', 'geforce'],\n",
       " ['nvidia', 'geforce'],\n",
       " ['nvidia', 'geforce'],\n",
       " ['intel', 'iris xe graphics'],\n",
       " ['intel'],\n",
       " ['intel'],\n",
       " ['intel'],\n",
       " ['amd', 'radeon'],\n",
       " ['intel'],\n",
       " ['intel'],\n",
       " ['amd', 'radeon'],\n",
       " ['intel'],\n",
       " ['nvidia', 'geforce'],\n",
       " ['nvidia', 'geforce'],\n",
       " ['nvidia', 'geforce'],\n",
       " ['intel', 'iris xe graphics'],\n",
       " ['nvidia', 'geforce'],\n",
       " ['nvidia', 'geforce'],\n",
       " ['intel', 'iris xe graphics'],\n",
       " ['nvidia', 'geforce'],\n",
       " ['nvidia', 'geforce'],\n",
       " ['intel', 'iris xe graphics'],\n",
       " ['nvidia', 'geforce'],\n",
       " ['nvidia', 'geforce'],\n",
       " ['nvidia', 'geforce'],\n",
       " ['amd', 'radeon'],\n",
       " ['intel', 'iris xe graphics'],\n",
       " ['nvidia', 'geforce'],\n",
       " ['intel'],\n",
       " ['nvidia', 'geforce'],\n",
       " ['intel', 'iris xe graphics'],\n",
       " ['nvidia'],\n",
       " ['nvidia', 'geforce'],\n",
       " ['nvidia', 'geforce'],\n",
       " ['nvidia', 'geforce'],\n",
       " ['intel', 'iris xe graphics'],\n",
       " ['intel', 'iris xe graphics'],\n",
       " ['intel', 'iris xe graphics'],\n",
       " ['nvidia'],\n",
       " ['nvidia'],\n",
       " ['intel', 'iris xe graphics'],\n",
       " ['amd', 'radeon'],\n",
       " ['intel'],\n",
       " ['amd', 'radeon'],\n",
       " ['intel', 'integrated uhd graphics'],\n",
       " ['intel', 'integrated uhd graphics'],\n",
       " ['intel'],\n",
       " ['nvidia', 'geforce'],\n",
       " ['intel'],\n",
       " ['amd', 'radeon', 'amd'],\n",
       " ['amd', 'radeon', 'amd'],\n",
       " ['nvidia', 'geforce'],\n",
       " ['nvidia', 'geforce'],\n",
       " ['nvidia', 'geforce'],\n",
       " ['nvidia', 'geforce'],\n",
       " ['intel'],\n",
       " ['intel', 'iris xe graphics'],\n",
       " ['intel'],\n",
       " ['amd', 'radeon'],\n",
       " ['intel'],\n",
       " ['nvidia', 'geforce'],\n",
       " ['nvidia', 'geforce'],\n",
       " ['nvidia', 'geforce'],\n",
       " ['nvidia', 'geforce'],\n",
       " ['intel', 'iris xe graphics'],\n",
       " ['nvidia', 'geforce'],\n",
       " ['intel'],\n",
       " ['intel'],\n",
       " ['intel'],\n",
       " ['intel', 'iris xe graphics'],\n",
       " ['intel'],\n",
       " ['intel', 'iris xe graphics'],\n",
       " ['intel', 'iris xe graphics'],\n",
       " ['nvidia', 'geforce'],\n",
       " ['intel'],\n",
       " ['amd', 'radeon'],\n",
       " ['intel', 'iris xe graphics'],\n",
       " ['intel'],\n",
       " ['nvidia', 'geforce'],\n",
       " ['intel', 'iris xe graphics'],\n",
       " ['amd', 'radeon'],\n",
       " ['amd', 'radeon', 'amd'],\n",
       " ['intel'],\n",
       " ['nvidia', 'geforce'],\n",
       " ['intel', 'integrated uhd graphics'],\n",
       " ['nvidia', 'geforce'],\n",
       " ['nvidia', 'geforce'],\n",
       " ['amd', 'radeon', 'radeon'],\n",
       " ['nvidia', 'geforce'],\n",
       " ['amd', 'radeon', 'amd'],\n",
       " ['nvidia', 'geforce'],\n",
       " ['nvidia', 'geforce'],\n",
       " ['nvidia', 'geforce'],\n",
       " ['nvidia', 'geforce'],\n",
       " ['intel'],\n",
       " ['intel'],\n",
       " ['intel'],\n",
       " ['nvidia', 'geforce'],\n",
       " ['nvidia', 'geforce'],\n",
       " ['nvidia', 'geforce'],\n",
       " ['nvidia', 'geforce']]"
      ]
     },
     "execution_count": 29,
     "metadata": {},
     "output_type": "execute_result"
    }
   ],
   "source": [
    "gpu_processed"
   ]
  },
  {
   "cell_type": "code",
   "execution_count": 30,
   "metadata": {},
   "outputs": [],
   "source": [
    "mapp={\"integrated uhd graphics\":\"intel\",\n",
    "      \"geforce\":\"nvidia\",\n",
    "      \"radeon\":\"amd\",\n",
    "      \"iris xe graphics\":\"intel\",\n",
    "      }\n",
    "elements=[elem[0] for elem in gpu_processed]\n",
    "data[\"GPU\"]=elements\n"
   ]
  },
  {
   "cell_type": "code",
   "execution_count": 31,
   "metadata": {},
   "outputs": [],
   "source": [
    "data[\"GPU\"]=data[\"GPU\"].replace(mapp)"
   ]
  },
  {
   "cell_type": "code",
   "execution_count": 32,
   "metadata": {},
   "outputs": [
    {
     "data": {
      "image/png": "[encoded data removed]",
      "text/plain": [
       "<Figure size 1000x400 with 1 Axes>"
      ]
     },
     "metadata": {},
     "output_type": "display_data"
    }
   ],
   "source": [
    "variants=[]\n",
    "for i in categorical_features:\n",
    "    elem=len(data[i].value_counts())\n",
    "    variants.append(elem)\n",
    "plt.figure(figsize=(10,4))\n",
    "plt.bar(categorical_features,variants)\n",
    "plt.show()"
   ]
  },
  {
   "cell_type": "code",
   "execution_count": 33,
   "metadata": {},
   "outputs": [
    {
     "data": {
      "text/plain": [
       "Index(['Quad Core, 8 Threads', 'Hexa Core, 12 Threads',\n",
       "       '10 Cores (2P + 8E), 12 Threads', 'Octa Core, 16 Threads',\n",
       "       '12 Cores (4P + 8E), 16 Threads', 'Dual Core, 4 Threads',\n",
       "       '14 Cores (6P + 8E), 20 Threads', 'Hexa Core (2P + 4E), 8 Threads',\n",
       "       'Octa Core (4P + 4E), 12 Threads', 'Dual Core, 2 Threads',\n",
       "       '10 Cores (6P + 4E), 16 Threads', '24 Cores (8P + 16E), 32 Threads',\n",
       "       '16 Cores (8P + 8E), 24 Threads', '14 Cores (6P + 8E)',\n",
       "       '5 Cores (1P + 4E), 6 Threads', 'Octa Core (4P + 4E)',\n",
       "       'Octa Core, 8 Threads', 'Quad Core, 4 Threads', 'Octa Core', '12 Cores',\n",
       "       'Quad Core', '10 Cores', '10 Cores (8P + 2E)', '10 Cores, 12 Threads',\n",
       "       '14 Cores, 20 Threads', '16 Cores, 32 Threads', 'Octa Core, 12 Threads',\n",
       "       '24 Cores (8P + 16E)', '20 Threads'],\n",
       "      dtype='object', name='CPU')"
      ]
     },
     "execution_count": 33,
     "metadata": {},
     "output_type": "execute_result"
    }
   ],
   "source": [
    "data.CPU.value_counts().index"
   ]
  },
  {
   "cell_type": "markdown",
   "metadata": {},
   "source": [
    "##### encoding of categorical values according to their specifications\n"
   ]
  },
  {
   "cell_type": "code",
   "execution_count": 34,
   "metadata": {},
   "outputs": [],
   "source": [
    "cpu_performance = {\n",
    "    'Quad Core, 8 Threads': 3,\n",
    "    'Hexa Core, 12 Threads': 4,\n",
    "    '10 Cores (2P + 8E), 12 Threads': 5,\n",
    "    'Octa Core, 16 Threads': 6,\n",
    "    '12 Cores (4P + 8E), 16 Threads': 7,\n",
    "    'Dual Core, 4 Threads': 1,\n",
    "    '14 Cores (6P + 8E), 20 Threads': 8,\n",
    "    'Hexa Core (2P + 4E), 8 Threads': 3,\n",
    "    'Octa Core (4P + 4E), 12 Threads': 5,\n",
    "    'Dual Core, 2 Threads': 1,\n",
    "    '10 Cores (6P + 4E), 16 Threads': 6,\n",
    "    '24 Cores (8P + 16E), 32 Threads': 10,\n",
    "    '16 Cores (8P + 8E), 24 Threads': 9,\n",
    "    '14 Cores (6P + 8E)': 7,\n",
    "    '5 Cores (1P + 4E), 6 Threads': 2,\n",
    "    'Octa Core (4P + 4E)': 4,\n",
    "    'Octa Core, 8 Threads': 4,\n",
    "    'Quad Core, 4 Threads': 2,\n",
    "    'Octa Core': 3,\n",
    "    '12 Cores': 5,\n",
    "    'Quad Core': 2,\n",
    "    '10 Cores': 4,\n",
    "    '10 Cores (8P + 2E)': 6,\n",
    "    '10 Cores, 12 Threads': 5,\n",
    "    '14 Cores, 20 Threads': 8,\n",
    "    '16 Cores, 32 Threads': 9,\n",
    "    'Octa Core, 12 Threads': 5,\n",
    "    '24 Cores (8P + 16E)': 10,\n",
    "    '20 Threads': 6\n",
    "}"
   ]
  },
  {
   "cell_type": "code",
   "execution_count": 35,
   "metadata": {},
   "outputs": [],
   "source": [
    "ram_performance = {\n",
    "    '2GB': 1,\n",
    "    '4GB': 2,\n",
    "    '8GB': 3,\n",
    "    '12GB': 4,\n",
    "    '16GB': 5,\n",
    "    '32GB': 6,\n",
    "    '64GB': 7\n",
    "}"
   ]
  },
  {
   "cell_type": "code",
   "execution_count": null,
   "metadata": {},
   "outputs": [],
   "source": []
  },
  {
   "cell_type": "code",
   "execution_count": 36,
   "metadata": {},
   "outputs": [],
   "source": [
    "rom_performance = {\n",
    "    '32GB': 1,\n",
    "    '64GB': 2,\n",
    "    '128GB': 3,\n",
    "    '256GB': 4,\n",
    "    '512GB': 5,\n",
    "    '1TB': 6,\n",
    "    '2TB': 7\n",
    "}\n"
   ]
  },
  {
   "cell_type": "code",
   "execution_count": 37,
   "metadata": {},
   "outputs": [],
   "source": [
    "ram_type_performance = {\n",
    "    'DDR': 1,\n",
    "    'DDR3': 2,\n",
    "    'DDR4': 3,\n",
    "    'DDR4-': 3,  \n",
    "    'DDR5': 5,\n",
    "    'LPDDR4': 3,\n",
    "    'LPDDR4X': 4,\n",
    "    'LPDDR4x': 4,  \n",
    "    'LPDDR5': 5,\n",
    "    'LPDDR5X': 6,\n",
    "    'LPDDR5x': 6,  \n",
    "    'Unified': 4  \n",
    "}"
   ]
  },
  {
   "cell_type": "code",
   "execution_count": 38,
   "metadata": {},
   "outputs": [],
   "source": [
    "rom_type_performance = {\n",
    "    'SSD': 2,  \n",
    "    'Hard-Disk': 1  \n",
    "}"
   ]
  },
  {
   "cell_type": "code",
   "execution_count": null,
   "metadata": {},
   "outputs": [],
   "source": []
  },
  {
   "cell_type": "code",
   "execution_count": 39,
   "metadata": {},
   "outputs": [],
   "source": [
    "import regex as re\n",
    "pattern=r\"(windows|chrome|dos|mac|ubuntu|android)\"\n",
    "os_processed=[re.findall(pattern,item.lower()) for item in data.OS.values]"
   ]
  },
  {
   "cell_type": "code",
   "execution_count": 40,
   "metadata": {},
   "outputs": [],
   "source": [
    "elements=[elem[0] for elem in os_processed]"
   ]
  },
  {
   "cell_type": "code",
   "execution_count": 41,
   "metadata": {},
   "outputs": [],
   "source": [
    "data[\"OS\"]=elements"
   ]
  },
  {
   "cell_type": "code",
   "execution_count": 42,
   "metadata": {},
   "outputs": [
    {
     "data": {
      "text/html": [
       "<div>\n",
       "<style scoped>\n",
       "    .dataframe tbody tr th:only-of-type {\n",
       "        vertical-align: middle;\n",
       "    }\n",
       "\n",
       "    .dataframe tbody tr th {\n",
       "        vertical-align: top;\n",
       "    }\n",
       "\n",
       "    .dataframe thead th {\n",
       "        text-align: right;\n",
       "    }\n",
       "</style>\n",
       "<table border=\"1\" class=\"dataframe\">\n",
       "  <thead>\n",
       "    <tr style=\"text-align: right;\">\n",
       "      <th></th>\n",
       "      <th>brand</th>\n",
       "      <th>price</th>\n",
       "      <th>spec_rating</th>\n",
       "      <th>processor</th>\n",
       "      <th>CPU</th>\n",
       "      <th>Ram</th>\n",
       "      <th>Ram_type</th>\n",
       "      <th>ROM</th>\n",
       "      <th>ROM_type</th>\n",
       "      <th>GPU</th>\n",
       "      <th>display_size</th>\n",
       "      <th>resolution_width</th>\n",
       "      <th>resolution_height</th>\n",
       "      <th>OS</th>\n",
       "      <th>warranty</th>\n",
       "    </tr>\n",
       "  </thead>\n",
       "  <tbody>\n",
       "  </tbody>\n",
       "</table>\n",
       "</div>"
      ],
      "text/plain": [
       "Empty DataFrame\n",
       "Columns: [brand, price, spec_rating, processor, CPU, Ram, Ram_type, ROM, ROM_type, GPU, display_size, resolution_width, resolution_height, OS, warranty]\n",
       "Index: []"
      ]
     },
     "execution_count": 42,
     "metadata": {},
     "output_type": "execute_result"
    }
   ],
   "source": [
    "data[data[\"GPU\"]==9]"
   ]
  },
  {
   "cell_type": "code",
   "execution_count": 43,
   "metadata": {},
   "outputs": [],
   "source": [
    "from sklearn.preprocessing import LabelEncoder\n",
    "encoder=LabelEncoder()\n",
    "for column in [\"brand\",\"processor\",\"OS\",\"GPU\"]:\n",
    "    data[column]=encoder.fit_transform(data[column])"
   ]
  },
  {
   "cell_type": "code",
   "execution_count": 44,
   "metadata": {},
   "outputs": [
    {
     "name": "stderr",
     "output_type": "stream",
     "text": [
      "C:\\Users\\Kalyan\\AppData\\Local\\Temp\\ipykernel_15400\\869896957.py:1: FutureWarning: Downcasting behavior in `replace` is deprecated and will be removed in a future version. To retain the old behavior, explicitly call `result.infer_objects(copy=False)`. To opt-in to the future behavior, set `pd.set_option('future.no_silent_downcasting', True)`\n",
      "  data[\"CPU\"]=data[\"CPU\"].replace(cpu_performance)\n",
      "C:\\Users\\Kalyan\\AppData\\Local\\Temp\\ipykernel_15400\\869896957.py:2: FutureWarning: Downcasting behavior in `replace` is deprecated and will be removed in a future version. To retain the old behavior, explicitly call `result.infer_objects(copy=False)`. To opt-in to the future behavior, set `pd.set_option('future.no_silent_downcasting', True)`\n",
      "  data[\"Ram\"]=data[\"Ram\"].replace(ram_performance)\n",
      "C:\\Users\\Kalyan\\AppData\\Local\\Temp\\ipykernel_15400\\869896957.py:3: FutureWarning: Downcasting behavior in `replace` is deprecated and will be removed in a future version. To retain the old behavior, explicitly call `result.infer_objects(copy=False)`. To opt-in to the future behavior, set `pd.set_option('future.no_silent_downcasting', True)`\n",
      "  data[\"ROM\"]=data[\"ROM\"].replace(rom_performance)\n",
      "C:\\Users\\Kalyan\\AppData\\Local\\Temp\\ipykernel_15400\\869896957.py:4: FutureWarning: Downcasting behavior in `replace` is deprecated and will be removed in a future version. To retain the old behavior, explicitly call `result.infer_objects(copy=False)`. To opt-in to the future behavior, set `pd.set_option('future.no_silent_downcasting', True)`\n",
      "  data[\"Ram_type\"]=data[\"Ram_type\"].replace(ram_type_performance)\n",
      "C:\\Users\\Kalyan\\AppData\\Local\\Temp\\ipykernel_15400\\869896957.py:5: FutureWarning: Downcasting behavior in `replace` is deprecated and will be removed in a future version. To retain the old behavior, explicitly call `result.infer_objects(copy=False)`. To opt-in to the future behavior, set `pd.set_option('future.no_silent_downcasting', True)`\n",
      "  data[\"ROM_type\"]=data[\"ROM_type\"].replace(rom_type_performance)\n"
     ]
    }
   ],
   "source": [
    "data[\"CPU\"]=data[\"CPU\"].replace(cpu_performance)\n",
    "data[\"Ram\"]=data[\"Ram\"].replace(ram_performance)\n",
    "data[\"ROM\"]=data[\"ROM\"].replace(rom_performance)\n",
    "data[\"Ram_type\"]=data[\"Ram_type\"].replace(ram_type_performance)\n",
    "data[\"ROM_type\"]=data[\"ROM_type\"].replace(rom_type_performance)\n"
   ]
  },
  {
   "cell_type": "code",
   "execution_count": 45,
   "metadata": {},
   "outputs": [],
   "source": [
    "from sklearn.model_selection import train_test_split\n",
    "x_train,x_test,y_train,y_test=train_test_split(data[features],data[\"price\"],test_size=0.2)"
   ]
  },
  {
   "cell_type": "code",
   "execution_count": 46,
   "metadata": {},
   "outputs": [],
   "source": [
    "from sklearn.preprocessing import StandardScaler\n",
    "scaler=StandardScaler()\n",
    "x_train_scaled=scaler.fit_transform(x_train)\n",
    "x_test_scaled=scaler.transform(x_test)"
   ]
  },
  {
   "cell_type": "code",
   "execution_count": 47,
   "metadata": {},
   "outputs": [
    {
     "data": {
      "text/plain": [
       "0.6410715499684545"
      ]
     },
     "execution_count": 47,
     "metadata": {},
     "output_type": "execute_result"
    }
   ],
   "source": [
    "from sklearn.linear_model import LinearRegression\n",
    "model_linear=LinearRegression().fit(x_train,y_train)\n",
    "model_linear.score(x_test,y_test)"
   ]
  },
  {
   "cell_type": "code",
   "execution_count": 53,
   "metadata": {},
   "outputs": [],
   "source": [
    "from sklearn.ensemble import RandomForestRegressor\n",
    "model_random=RandomForestRegressor(n_estimators=100).fit(x_train,y_train)"
   ]
  },
  {
   "cell_type": "code",
   "execution_count": 54,
   "metadata": {},
   "outputs": [
    {
     "name": "stdout",
     "output_type": "stream",
     "text": [
      "Training Score: 0.9721289486680015\n",
      "Testing Score: 0.7449365222518327\n"
     ]
    }
   ],
   "source": [
    "print(f\"Training Score: {model_random.score(x_train,y_train)}\")\n",
    "print(f\"Testing Score: {model_random.score(x_test,y_test)}\")"
   ]
  },
  {
   "cell_type": "code",
   "execution_count": 55,
   "metadata": {},
   "outputs": [
    {
     "data": {
      "text/plain": [
       "Index(['spec_rating', 'resolution_height', 'display_size', 'brand',\n",
       "       'processor', 'CPU', 'Ram', 'Ram_type', 'ROM', 'ROM_type', 'GPU', 'OS'],\n",
       "      dtype='object')"
      ]
     },
     "execution_count": 55,
     "metadata": {},
     "output_type": "execute_result"
    }
   ],
   "source": [
    "x_train.columns"
   ]
  }
 ],
 "metadata": {
  "kernelspec": {
   "display_name": "Python 3",
   "language": "python",
   "name": "python3"
  },
  "language_info": {
   "codemirror_mode": {
    "name": "ipython",
    "version": 3
   },
   "file_extension": ".py",
   "mimetype": "text/x-python",
   "name": "python",
   "nbconvert_exporter": "python",
   "pygments_lexer": "ipython3",
   "version": "3.10.11"
  }
 },
 "nbformat": 4,
 "nbformat_minor": 2
}
